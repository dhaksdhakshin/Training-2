{
 "cells": [
  {
   "cell_type": "code",
   "execution_count": 1,
   "metadata": {},
   "outputs": [
    {
     "name": "stdout",
     "output_type": "stream",
     "text": [
      "Pearson correlation: 0.83\n",
      "Spearman correlation: 0.80\n"
     ]
    }
   ],
   "source": [
    "import scipy.stats as stats\n",
    "\n",
    "height = [160, 170, 180, 175]\n",
    "weight = [60, 70, 75, 65]\n",
    "\n",
    "pearson_corr, _ = stats.pearsonr(height, weight)\n",
    "spearman_corr, _ = stats.spearmanr(height, weight)\n",
    "\n",
    "print(f\"Pearson correlation: {pearson_corr:.2f}\")\n",
    "print(f\"Spearman correlation: {spearman_corr:.2f}\")\n"
   ]
  },
  {
   "cell_type": "code",
   "execution_count": null,
   "metadata": {},
   "outputs": [],
   "source": []
  }
 ],
 "metadata": {
  "kernelspec": {
   "display_name": "base",
   "language": "python",
   "name": "python3"
  },
  "language_info": {
   "codemirror_mode": {
    "name": "ipython",
    "version": 3
   },
   "file_extension": ".py",
   "mimetype": "text/x-python",
   "name": "python",
   "nbconvert_exporter": "python",
   "pygments_lexer": "ipython3",
   "version": "3.12.3"
  }
 },
 "nbformat": 4,
 "nbformat_minor": 2
}
