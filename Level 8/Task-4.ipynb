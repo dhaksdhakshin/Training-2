{
 "cells": [
  {
   "cell_type": "code",
   "execution_count": 1,
   "metadata": {},
   "outputs": [
    {
     "name": "stdout",
     "output_type": "stream",
     "text": [
      "Covariance: 45.83\n",
      "Positive covariance; as height increases, weight tends to increase.\n"
     ]
    }
   ],
   "source": [
    "import numpy as np\n",
    "\n",
    "height = np.array([160, 170, 180, 175])\n",
    "weight = np.array([60, 70, 75, 65])\n",
    "\n",
    "cov_matrix = np.cov(height, weight, ddof=1)\n",
    "cov_value = cov_matrix[0, 1] \n",
    "\n",
    "interpretation = \"Positive covariance; as height increases, weight tends to increase.\" if cov_value > 0 else \"No clear relationship or negative correlation.\"\n",
    "\n",
    "print(f\"Covariance: {cov_value:.2f}\")\n",
    "print(interpretation)\n"
   ]
  }
 ],
 "metadata": {
  "kernelspec": {
   "display_name": "base",
   "language": "python",
   "name": "python3"
  },
  "language_info": {
   "codemirror_mode": {
    "name": "ipython",
    "version": 3
   },
   "file_extension": ".py",
   "mimetype": "text/x-python",
   "name": "python",
   "nbconvert_exporter": "python",
   "pygments_lexer": "ipython3",
   "version": "3.12.3"
  }
 },
 "nbformat": 4,
 "nbformat_minor": 2
}
