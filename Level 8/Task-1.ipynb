{
 "cells": [
  {
   "cell_type": "code",
   "execution_count": 2,
   "metadata": {},
   "outputs": [
    {
     "name": "stdout",
     "output_type": "stream",
     "text": [
      "Z-score: 15.08\n",
      "P-value: 2.07e-51\n",
      "Reject H₀: Medication affects IQ, likely increasing it.\n"
     ]
    }
   ],
   "source": [
    "import numpy as np\n",
    "import statsmodels.stats.weightstats as st\n",
    "\n",
    "np.random.seed(42)\n",
    "\n",
    "sample_data = np.random.normal(140, 15, 30)\n",
    "z_score, p_value = st.ztest(sample_data, value=100)\n",
    "\n",
    "print(f\"Z-score: {z_score:.2f}\")\n",
    "print(f\"P-value: {p_value:.2e}\")\n",
    "\n",
    "if p_value < 0.05:\n",
    "    print(\"Reject H₀: Medication affects IQ, likely increasing it.\")\n",
    "else:\n",
    "    print(\"Fail to reject H₀: No significant effect of medication on IQ.\")\n"
   ]
  },
  {
   "cell_type": "code",
   "execution_count": null,
   "metadata": {},
   "outputs": [],
   "source": []
  }
 ],
 "metadata": {
  "kernelspec": {
   "display_name": "base",
   "language": "python",
   "name": "python3"
  },
  "language_info": {
   "codemirror_mode": {
    "name": "ipython",
    "version": 3
   },
   "file_extension": ".py",
   "mimetype": "text/x-python",
   "name": "python",
   "nbconvert_exporter": "python",
   "pygments_lexer": "ipython3",
   "version": "3.12.3"
  }
 },
 "nbformat": 4,
 "nbformat_minor": 2
}
