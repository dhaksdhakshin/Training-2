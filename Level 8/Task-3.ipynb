{
 "cells": [
  {
   "cell_type": "code",
   "execution_count": 1,
   "metadata": {},
   "outputs": [
    {
     "name": "stdout",
     "output_type": "stream",
     "text": [
      "Chi-Square Statistic: 232.49\n",
      "P-Value: 0.00000\n",
      "Reject H₀; age distribution changed.\n"
     ]
    }
   ],
   "source": [
    "import scipy.stats as stats\n",
    "\n",
    "observed = [121, 288, 91]\n",
    "\n",
    "expected = [500 * 0.2, 500 * 0.3, 500 * 0.5]\n",
    "\n",
    "chi_square_stat, p_value = stats.chisquare(observed, expected)\n",
    "\n",
    "alpha = 0.05\n",
    "result = \"Reject H₀; age distribution changed.\" if p_value < alpha else \"Fail to reject H₀; no significant change.\"\n",
    "\n",
    "print(f\"Chi-Square Statistic: {chi_square_stat:.2f}\")\n",
    "print(f\"P-Value: {p_value:.5f}\")\n",
    "print(result)\n"
   ]
  },
  {
   "cell_type": "code",
   "execution_count": null,
   "metadata": {},
   "outputs": [],
   "source": []
  }
 ],
 "metadata": {
  "kernelspec": {
   "display_name": "base",
   "language": "python",
   "name": "python3"
  },
  "language_info": {
   "codemirror_mode": {
    "name": "ipython",
    "version": 3
   },
   "file_extension": ".py",
   "mimetype": "text/x-python",
   "name": "python",
   "nbconvert_exporter": "python",
   "pygments_lexer": "ipython3",
   "version": "3.12.3"
  }
 },
 "nbformat": 4,
 "nbformat_minor": 2
}
