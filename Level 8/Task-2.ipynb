{
 "cells": [
  {
   "cell_type": "code",
   "execution_count": 1,
   "metadata": {},
   "outputs": [],
   "source": [
    "import numpy as np\n",
    "import scipy.stats as stats"
   ]
  },
  {
   "cell_type": "code",
   "execution_count": 2,
   "metadata": {},
   "outputs": [
    {
     "name": "stdout",
     "output_type": "stream",
     "text": [
      "T-Statistic: 11.03\n",
      "P-Value: 0.00000\n",
      "Reject H₀; medication increases IQ.\n"
     ]
    }
   ],
   "source": [
    "population_mean = 100\n",
    "sample_size = 30\n",
    "sample_mean = 140\n",
    "sample_std = 20\n",
    "alpha = 0.05\n",
    "\n",
    "np.random.seed(42)\n",
    "sample_data = np.random.normal(sample_mean,sample_std,sample_size)\n",
    "t_stat,p_value=stats.ttest_1samp(sample_data,popmean=population_mean)\n",
    "\n",
    "if p_value < alpha:\n",
    "    result = \"Reject H₀; medication increases IQ.\"\n",
    "else:\n",
    "    result = \"Fail to reject H₀; no significant effect.\"\n",
    "\n",
    "print(f\"T-Statistic: {t_stat:.2f}\")\n",
    "print(f\"P-Value: {p_value:.5f}\")\n",
    "print(result)"
   ]
  },
  {
   "cell_type": "code",
   "execution_count": null,
   "metadata": {},
   "outputs": [],
   "source": []
  }
 ],
 "metadata": {
  "kernelspec": {
   "display_name": "base",
   "language": "python",
   "name": "python3"
  },
  "language_info": {
   "codemirror_mode": {
    "name": "ipython",
    "version": 3
   },
   "file_extension": ".py",
   "mimetype": "text/x-python",
   "name": "python",
   "nbconvert_exporter": "python",
   "pygments_lexer": "ipython3",
   "version": "3.12.3"
  }
 },
 "nbformat": 4,
 "nbformat_minor": 2
}
