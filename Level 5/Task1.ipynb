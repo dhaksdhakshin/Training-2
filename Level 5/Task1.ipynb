{
 "cells": [
  {
   "cell_type": "code",
   "execution_count": 8,
   "metadata": {},
   "outputs": [],
   "source": [
    "income_sourse={\"salary\":50000,\"freelance\":18000}\n",
    "expense_cate={\"rent\":5000,\"food\":4000,\"cosmetics\":5000,\"others\":6000}"
   ]
  },
  {
   "cell_type": "code",
   "execution_count": 26,
   "metadata": {},
   "outputs": [],
   "source": [
    "def tot_inc():\n",
    "    return sum(income_sourse.values())"
   ]
  },
  {
   "cell_type": "code",
   "execution_count": 27,
   "metadata": {},
   "outputs": [],
   "source": [
    "def tot_exp():\n",
    "    return sum(expense_cate.values())"
   ]
  },
  {
   "cell_type": "code",
   "execution_count": 30,
   "metadata": {},
   "outputs": [
    {
     "name": "stdout",
     "output_type": "stream",
     "text": [
      "Total Income:68000 Total Expense:20000 Balance:48000\n"
     ]
    }
   ],
   "source": [
    "balance = tot_inc() - tot_exp()\n",
    "print(f\"Total Income:{tot_inc()} Total Expense:{tot_exp()} Balance:{balance}\")"
   ]
  }
 ],
 "metadata": {
  "kernelspec": {
   "display_name": "Python 3",
   "language": "python",
   "name": "python3"
  },
  "language_info": {
   "codemirror_mode": {
    "name": "ipython",
    "version": 3
   },
   "file_extension": ".py",
   "mimetype": "text/x-python",
   "name": "python",
   "nbconvert_exporter": "python",
   "pygments_lexer": "ipython3",
   "version": "3.11.7"
  }
 },
 "nbformat": 4,
 "nbformat_minor": 2
}
