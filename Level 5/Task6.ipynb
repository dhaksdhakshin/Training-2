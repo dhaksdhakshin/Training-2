{
 "cells": [
  {
   "cell_type": "code",
   "execution_count": 2,
   "metadata": {},
   "outputs": [],
   "source": [
    "import threading\n",
    "import logging\n",
    "import pandas as pd"
   ]
  },
  {
   "cell_type": "code",
   "execution_count": 3,
   "metadata": {},
   "outputs": [],
   "source": [
    "logging.basicConfig(filename=\"processing.log\", level=logging.INFO,\n",
    "                    format=\"%(asctime)s - %(levelname)s - %(message)s\")"
   ]
  },
  {
   "cell_type": "code",
   "execution_count": 14,
   "metadata": {},
   "outputs": [],
   "source": [
    "def process_file(file_name, column_name):\n",
    "    logging.info(f\"Started processing {file_name}\")\n",
    "    try:\n",
    "        df = pd.read_csv(file_name)\n",
    "        mean_value = df[column_name].mean()\n",
    "        logging.info(f\"Finished processing {file_name}) - Mean: {mean_value}\")\n",
    "        print(f\"Mean f {column_name} in {file_name}): {mean_value:.2f}\")\n",
    "    except Exception as e:\n",
    "        logging.error(f\"Error processing {file_name}: {e}\")\n"
   ]
  },
  {
   "cell_type": "code",
   "execution_count": 20,
   "metadata": {},
   "outputs": [],
   "source": [
    "file1, file2 = \"C:/Users/madhu/OneDrive/Documents/titanic.csv\" ,\"C:/Users/madhu/OneDrive/Documents/titanic1.csv\"\n",
    "column = \"SibSp\"\n"
   ]
  },
  {
   "cell_type": "code",
   "execution_count": 21,
   "metadata": {},
   "outputs": [],
   "source": [
    "thread1 = threading.Thread(target=process_file, args=(file1, column))\n",
    "thread2 = threading.Thread(target=process_file, args=(file2, column))"
   ]
  },
  {
   "cell_type": "code",
   "execution_count": 22,
   "metadata": {},
   "outputs": [
    {
     "name": "stdout",
     "output_type": "stream",
     "text": [
      "Mean f SibSp in C:/Users/madhu/OneDrive/Documents/titanic.csv): 0.52\n",
      "Mean f SibSp in C:/Users/madhu/OneDrive/Documents/titanic1.csv): 2.29\n"
     ]
    }
   ],
   "source": [
    "thread1.start()\n",
    "thread2.start()"
   ]
  },
  {
   "cell_type": "code",
   "execution_count": 23,
   "metadata": {},
   "outputs": [],
   "source": [
    "thread1.join()\n",
    "thread2.join()"
   ]
  }
 ],
 "metadata": {
  "kernelspec": {
   "display_name": "Python 3",
   "language": "python",
   "name": "python3"
  },
  "language_info": {
   "codemirror_mode": {
    "name": "ipython",
    "version": 3
   },
   "file_extension": ".py",
   "mimetype": "text/x-python",
   "name": "python",
   "nbconvert_exporter": "python",
   "pygments_lexer": "ipython3",
   "version": "3.11.7"
  }
 },
 "nbformat": 4,
 "nbformat_minor": 2
}
