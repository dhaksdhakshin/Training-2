{
 "cells": [
  {
   "cell_type": "code",
   "execution_count": 1,
   "metadata": {},
   "outputs": [
    {
     "name": "stdout",
     "output_type": "stream",
     "text": [
      "\n",
      "Completed Dictionary: {'a': 4, 'b': 8, 'c': 2}\n"
     ]
    }
   ],
   "source": [
    "data_dict = {}\n",
    "for _ in range(3):\n",
    "    key = input(\"Enter a key (string): \")\n",
    "    while True:\n",
    "        try:\n",
    "            value = int(input(f\"Enter a value (integer) for '{key}': \"))\n",
    "            break\n",
    "        except ValueError:\n",
    "            print(\"Invalid input! Please enter an integer.\")\n",
    "    data_dict[key] = value\n",
    "print(\"\\nCompleted Dictionary:\", data_dict)\n"
   ]
  },
  {
   "cell_type": "code",
   "execution_count": null,
   "metadata": {},
   "outputs": [],
   "source": []
  }
 ],
 "metadata": {
  "kernelspec": {
   "display_name": "base",
   "language": "python",
   "name": "python3"
  },
  "language_info": {
   "codemirror_mode": {
    "name": "ipython",
    "version": 3
   },
   "file_extension": ".py",
   "mimetype": "text/x-python",
   "name": "python",
   "nbconvert_exporter": "python",
   "pygments_lexer": "ipython3",
   "version": "3.12.3"
  }
 },
 "nbformat": 4,
 "nbformat_minor": 2
}
