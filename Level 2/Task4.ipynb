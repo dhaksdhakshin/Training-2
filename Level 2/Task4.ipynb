{
 "cells": [
  {
   "cell_type": "code",
   "execution_count": 1,
   "metadata": {},
   "outputs": [
    {
     "name": "stdout",
     "output_type": "stream",
     "text": [
      "Cube of Even Numbers: [8, 64]\n"
     ]
    }
   ],
   "source": [
    "number_list=[1,2,3,4,5]\n",
    "\n",
    "even_numbers = list(filter(lambda x : x % 2 == 0, number_list))\n",
    "\n",
    "cube_numbers = list(map(lambda x : x**3 , even_numbers))\n",
    "\n",
    "print(\"Cube of Even Numbers:\",cube_numbers)"
   ]
  }
 ],
 "metadata": {
  "kernelspec": {
   "display_name": "Python 3",
   "language": "python",
   "name": "python3"
  },
  "language_info": {
   "codemirror_mode": {
    "name": "ipython",
    "version": 3
   },
   "file_extension": ".py",
   "mimetype": "text/x-python",
   "name": "python",
   "nbconvert_exporter": "python",
   "pygments_lexer": "ipython3",
   "version": "3.11.7"
  }
 },
 "nbformat": 4,
 "nbformat_minor": 2
}
