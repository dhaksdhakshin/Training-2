{
 "cells": [
  {
   "cell_type": "code",
   "execution_count": 1,
   "metadata": {},
   "outputs": [
    {
     "name": "stdout",
     "output_type": "stream",
     "text": [
      "Encrypted PDF saved as 'output_protected.pdf'\n"
     ]
    }
   ],
   "source": [
    "from pypdf import PdfReader, PdfWriter\n",
    "\n",
    "input_pdf = \"C:/Users/dhaks/Documents/Level 4/NLP LAB MANUAL_2025 (2).pdf\"\n",
    "output_pdf = \"output_protected.pdf\"\n",
    "password = \"your_password\" \n",
    "\n",
    "reader = PdfReader(input_pdf)\n",
    "writer = PdfWriter()\n",
    "\n",
    "for page in reader.pages:\n",
    "    writer.add_page(page)\n",
    "writer.encrypt(password)\n",
    "with open(output_pdf, \"wb\") as f:\n",
    "    writer.write(f)\n",
    "\n",
    "print(f\"Encrypted PDF saved as '{output_pdf}'\")\n"
   ]
  },
  {
   "cell_type": "code",
   "execution_count": null,
   "metadata": {},
   "outputs": [],
   "source": []
  }
 ],
 "metadata": {
  "kernelspec": {
   "display_name": "Python 3",
   "language": "python",
   "name": "python3"
  },
  "language_info": {
   "codemirror_mode": {
    "name": "ipython",
    "version": 3
   },
   "file_extension": ".py",
   "mimetype": "text/x-python",
   "name": "python",
   "nbconvert_exporter": "python",
   "pygments_lexer": "ipython3",
   "version": "3.10.11"
  }
 },
 "nbformat": 4,
 "nbformat_minor": 2
}
